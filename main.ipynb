{
 "cells": [
  {
   "cell_type": "markdown",
   "id": "1fddc939",
   "metadata": {},
   "source": [
    "\n",
    "# Real Estate Web Scraping Project\n",
    "\n",
    "This notebook demonstrates a web scraping project focused on extracting real estate data from Redfin. The goal is to collect property information, such as price, number of beds, baths, area and more.\n",
    "\n",
    "## Libraries Used\n",
    "- `requests`: For sending HTTP requests to websites.\n",
    "- `BeautifulSoup`: For parsing HTML and extracting data.\n",
    "- `pandas`: For organizing and exporting data into a CSV file.\n"
   ]
  },
  {
   "cell_type": "code",
   "execution_count": 3,
   "id": "ab6e91f0-4fc0-4e0e-8f46-3c97157e41c1",
   "metadata": {
    "tags": []
   },
   "outputs": [],
   "source": [
    "import requests\n",
    "import pandas as pd\n",
    "from functions import *\n",
    "from bs4 import BeautifulSoup"
   ]
  },
  {
   "cell_type": "markdown",
   "id": "4304d6c4",
   "metadata": {},
   "source": [
    "# Define the URL and headers for scraping"
   ]
  },
  {
   "cell_type": "code",
   "execution_count": 5,
   "id": "2b67bc7c-c983-496a-bd64-951693736b92",
   "metadata": {
    "tags": []
   },
   "outputs": [],
   "source": [
    "BASE_URL = 'https://www.redfin.com/city/30749/NY/New-York'\n",
    "HEADERS = {\n",
    "    'User-Agent': 'Mozilla/5.0 (Windows NT 10.0; Win64; x64) AppleWebKit/537.36 (KHTML, like Gecko) Chrome/126.0.0.0 Safari/537.36',\n",
    "}"
   ]
  },
  {
   "cell_type": "code",
   "execution_count": 6,
   "id": "06ae4fd1-003e-4ff1-8ad0-7a87d97d9986",
   "metadata": {
    "tags": []
   },
   "outputs": [],
   "source": [
    "MAX_RESULTS = 500  # Maximum number of homes to scrape"
   ]
  },
  {
   "cell_type": "markdown",
   "id": "20e0d93d-a326-4422-8d3c-ec5a4a48979b",
   "metadata": {},
   "source": [
    "# Start scraping until the maximum number of results is reached"
   ]
  },
  {
   "cell_type": "code",
   "execution_count": 8,
   "id": "b7cad545-1a9c-498b-bd55-ebb4f50b974f",
   "metadata": {
    "tags": []
   },
   "outputs": [],
   "source": [
    "page_number = 1\n",
    "property_list = []\n",
    "while len(property_list) < MAX_RESULTS:\n",
    "    try:\n",
    "        response = requests.get(f'{BASE_URL}/page-{page_number}', headers=HEADERS)\n",
    "        response.raise_for_status()  # Check for request errors\n",
    "    except requests.exceptions.RequestException as e:\n",
    "        print(f\"Request failed: {e}\")\n",
    "        break\n",
    "\n",
    "    soup = BeautifulSoup(response.content, \"html.parser\")\n",
    "    containers = soup.find_all('div', {'class': 'HomeCardContainer flex justify-center'})\n",
    "\n",
    "    if not containers:\n",
    "        print(\"No more homes found\")\n",
    "        break\n",
    "\n",
    "    for container in containers:\n",
    "        address = get_home_address(container)\n",
    "        street, neighborhood, zip_code = parse_address(address)\n",
    "        property_list.append({\n",
    "            'price': get_home_price(container),\n",
    "            'beds': get_beds_num(container),\n",
    "            'baths': get_baths_num(container),\n",
    "            'area_value': get_area_value(container),\n",
    "            'area_label': get_area_label(container),\n",
    "            'street': street,\n",
    "            'neighborhood': neighborhood,\n",
    "            'zip_code': zip_code,\n",
    "            'listing_by': get_listing_by(container)\n",
    "        })\n",
    "\n",
    "        if len(property_list) >= MAX_RESULTS:\n",
    "            break\n",
    "\n",
    "    page_number += 1"
   ]
  },
  {
   "cell_type": "markdown",
   "id": "0907689d-6889-4c1d-b8e2-3af0d91105ca",
   "metadata": {},
   "source": [
    "# Saving the Data"
   ]
  },
  {
   "cell_type": "code",
   "execution_count": 10,
   "id": "37c406dd-2e11-479a-b219-1ff5d190f72f",
   "metadata": {
    "tags": []
   },
   "outputs": [
    {
     "data": {
      "text/html": [
       "<div>\n",
       "<style scoped>\n",
       "    .dataframe tbody tr th:only-of-type {\n",
       "        vertical-align: middle;\n",
       "    }\n",
       "\n",
       "    .dataframe tbody tr th {\n",
       "        vertical-align: top;\n",
       "    }\n",
       "\n",
       "    .dataframe thead th {\n",
       "        text-align: right;\n",
       "    }\n",
       "</style>\n",
       "<table border=\"1\" class=\"dataframe\">\n",
       "  <thead>\n",
       "    <tr style=\"text-align: right;\">\n",
       "      <th></th>\n",
       "      <th>price</th>\n",
       "      <th>beds</th>\n",
       "      <th>baths</th>\n",
       "      <th>area_value</th>\n",
       "      <th>area_label</th>\n",
       "      <th>street</th>\n",
       "      <th>neighborhood</th>\n",
       "      <th>zip_code</th>\n",
       "      <th>listing_by</th>\n",
       "    </tr>\n",
       "  </thead>\n",
       "  <tbody>\n",
       "    <tr>\n",
       "      <th>210</th>\n",
       "      <td>$3,350,000</td>\n",
       "      <td>3</td>\n",
       "      <td>2.5</td>\n",
       "      <td>1,854</td>\n",
       "      <td>sq ft</td>\n",
       "      <td>50 Bridge Park Dr Unit 3B</td>\n",
       "      <td>Brooklyn</td>\n",
       "      <td>11201</td>\n",
       "      <td>Serhant LLC • Provided by REBNY</td>\n",
       "    </tr>\n",
       "    <tr>\n",
       "      <th>361</th>\n",
       "      <td>$641,175</td>\n",
       "      <td>0</td>\n",
       "      <td>1</td>\n",
       "      <td>515</td>\n",
       "      <td>sq ft</td>\n",
       "      <td>136-80 41 Ave Unit 4H</td>\n",
       "      <td>Flushing</td>\n",
       "      <td>11355</td>\n",
       "      <td>United Real Estate Fortune</td>\n",
       "    </tr>\n",
       "    <tr>\n",
       "      <th>46</th>\n",
       "      <td>$308,000</td>\n",
       "      <td>1</td>\n",
       "      <td>1</td>\n",
       "      <td>—</td>\n",
       "      <td>sq ft</td>\n",
       "      <td>65-05 Yellowstone Blvd Unit 5E</td>\n",
       "      <td>Forest Hills</td>\n",
       "      <td>11375</td>\n",
       "      <td>Tru International Realty Corp</td>\n",
       "    </tr>\n",
       "    <tr>\n",
       "      <th>487</th>\n",
       "      <td>$400,000</td>\n",
       "      <td>—</td>\n",
       "      <td>—</td>\n",
       "      <td>4,000</td>\n",
       "      <td>sq ft (lot)</td>\n",
       "      <td>365 Forbell St</td>\n",
       "      <td>East New York</td>\n",
       "      <td>11208</td>\n",
       "      <td>St Rose Realty</td>\n",
       "    </tr>\n",
       "    <tr>\n",
       "      <th>202</th>\n",
       "      <td>$950,000</td>\n",
       "      <td>5</td>\n",
       "      <td>2</td>\n",
       "      <td>2,100</td>\n",
       "      <td>sq ft</td>\n",
       "      <td>65 Alter Ave</td>\n",
       "      <td>Staten Island</td>\n",
       "      <td>10304</td>\n",
       "      <td>Ed Bruno Realty, LLC</td>\n",
       "    </tr>\n",
       "  </tbody>\n",
       "</table>\n",
       "</div>"
      ],
      "text/plain": [
       "          price beds baths area_value   area_label  \\\n",
       "210  $3,350,000    3   2.5     1,854         sq ft   \n",
       "361    $641,175    0     1       515         sq ft   \n",
       "46     $308,000    1     1         —         sq ft   \n",
       "487    $400,000    —     —     4,000   sq ft (lot)   \n",
       "202    $950,000    5     2     2,100         sq ft   \n",
       "\n",
       "                             street   neighborhood zip_code  \\\n",
       "210       50 Bridge Park Dr Unit 3B       Brooklyn    11201   \n",
       "361           136-80 41 Ave Unit 4H       Flushing    11355   \n",
       "46   65-05 Yellowstone Blvd Unit 5E   Forest Hills    11375   \n",
       "487                  365 Forbell St  East New York    11208   \n",
       "202                    65 Alter Ave  Staten Island    10304   \n",
       "\n",
       "                          listing_by  \n",
       "210  Serhant LLC • Provided by REBNY  \n",
       "361       United Real Estate Fortune  \n",
       "46     Tru International Realty Corp  \n",
       "487                   St Rose Realty  \n",
       "202             Ed Bruno Realty, LLC  "
      ]
     },
     "execution_count": 10,
     "metadata": {},
     "output_type": "execute_result"
    }
   ],
   "source": [
    "df = pd.DataFrame(property_list)\n",
    "df.to_csv('data/homes.csv', index=False)\n",
    "df.sample(5)"
   ]
  }
 ],
 "metadata": {
  "kernelspec": {
   "display_name": "Python 3 (ipykernel)",
   "language": "python",
   "name": "python3"
  },
  "language_info": {
   "codemirror_mode": {
    "name": "ipython",
    "version": 3
   },
   "file_extension": ".py",
   "mimetype": "text/x-python",
   "name": "python",
   "nbconvert_exporter": "python",
   "pygments_lexer": "ipython3",
   "version": "3.11.7"
  }
 },
 "nbformat": 4,
 "nbformat_minor": 5
}
